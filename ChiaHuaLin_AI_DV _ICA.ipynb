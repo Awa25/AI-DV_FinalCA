{
 "cells": [
  {
   "cell_type": "markdown",
   "id": "0ab41df1",
   "metadata": {},
   "source": [
    "**<font size=5> Module Title: Artificial Intelligence / Data Visualisation & Comms </font>**\n",
    "\n",
    "**<font size=5> Assessment Title: Individual </font>**\n",
    "\n",
    "**<font size=4> Lecturer Name: Dr.David McQuaid / Dr.Sam Weiss </font>**\n",
    "\n",
    "**<font size=4> Student Name: Chia Hua Lin &emsp; &emsp; ID: 2020044 </font>**\n",
    "\n",
    "========================================================================================================"
   ]
  },
  {
   "cell_type": "markdown",
   "id": "3ed4a741",
   "metadata": {},
   "source": [
    "# <font color=red size=6> Tasks for Artificial Intelligence </font>"
   ]
  },
  {
   "cell_type": "markdown",
   "id": "38231891",
   "metadata": {},
   "source": [
    "<font size=3> Ciara is looking for employees for her new company, which develops and provides AI based logistic software for retailers. Ciara has determined that she needs: </font>\n",
    "\n",
    "<font size=3> Python Programmers, 2 AI Engineers, 1 Web Designer, 1 Database Admin, and 1 Systems Engineer. Assume that if a person has two abilities, he or she can take on two roles in the company. </font>\n",
    "\n",
    "<font size=3> So Ciara narrowed down her selections to the following people: </font>\n",
    "\n",
    "\n",
    "\n",
    "**Name &nbsp;  Abilities**  \n",
    "Peter &nbsp;&nbsp; Python and AI  \n",
    "Juan &nbsp;&nbsp; Web and AI  \n",
    "Jim &nbsp;&nbsp; AI and Systems  \n",
    "Jane &nbsp;&nbsp; Python and Database  \n",
    "Mary &nbsp;&nbsp; Web and Systems  \n",
    "Bruce &nbsp;&nbsp; Systems and Python  \n",
    "Anita &nbsp;&nbsp; Web and AI  "
   ]
  },
  {
   "cell_type": "markdown",
   "id": "079a3b7e",
   "metadata": {},
   "source": [
    "# Scenario 1:   \n",
    "\n",
    "## Problem Statement\n",
    "\n",
    "Ciara knows Python and has funds to hire three more people. The hiring needs are as follows:\n",
    "\n",
    "- 2 Python Programmers\n",
    "- 3 AI Engineers\n",
    "- 1 Web Designer\n",
    "- 1 Database Admin\n",
    "- 1 Systems Engineer\n",
    "\n",
    "The goal is to utilize a Constraint Satisfaction Problem (CSP) framework to determine if the hiring needs can be met, considering that Ciara knows Python and only has funds to hire three more people."
   ]
  },
  {
   "cell_type": "code",
   "execution_count": 1,
   "id": "369bcc51",
   "metadata": {},
   "outputs": [
    {
     "name": "stdout",
     "output_type": "stream",
     "text": [
      "Collecting python-constraint\n",
      "  Downloading python-constraint-1.4.0.tar.bz2 (18 kB)\n",
      "Building wheels for collected packages: python-constraint\n",
      "  Building wheel for python-constraint (setup.py) ... \u001b[?25ldone\n",
      "\u001b[?25h  Created wheel for python-constraint: filename=python_constraint-1.4.0-py2.py3-none-any.whl size=24081 sha256=1185cac8b808ebe87fb814cf03798ddf90ba636ce02c54d1ba005b65af496d87\n",
      "  Stored in directory: /Users/awa/Library/Caches/pip/wheels/51/36/1f/c2ccb8dc4eba38c5215636d4ae2c480b32069cab0376bcc1a4\n",
      "Successfully built python-constraint\n",
      "Installing collected packages: python-constraint\n",
      "Successfully installed python-constraint-1.4.0\n"
     ]
    }
   ],
   "source": [
    "!pip install python-constraint"
   ]
  },
  {
   "cell_type": "code",
   "execution_count": 2,
   "id": "0d7d7376",
   "metadata": {},
   "outputs": [
    {
     "data": {
      "text/plain": [
       "[('Peter', ['Python', 'AI']),\n",
       " ('Jane', ['Python', 'Database']),\n",
       " ('Bruce', ['Systems', 'Python'])]"
      ]
     },
     "execution_count": 2,
     "metadata": {},
     "output_type": "execute_result"
    }
   ],
   "source": [
    "# Define the list of potential candidates and their abilities\n",
    "candidates = {\n",
    "    'Peter': ['Python', 'AI'],\n",
    "    'Juan': ['Web', 'AI'],\n",
    "    'Jim': ['AI', 'Systems'],\n",
    "    'Jane': ['Python', 'Database'],\n",
    "    'Mary': ['Web', 'Systems'],\n",
    "    'Bruce': ['Systems', 'Python'],\n",
    "    'Anita': ['Web', 'AI']\n",
    "}\n",
    "\n",
    "# Ciara's requirements\n",
    "required_roles = {\n",
    "    'Python Programmer': 2,\n",
    "    'AI Engineer': 2,\n",
    "    'Web Designer': 1,\n",
    "    'Database Admin': 1,\n",
    "    'Systems Engineer': 1\n",
    "}\n",
    "\n",
    "# Initialize the selected candidates list\n",
    "selected_candidates = []\n",
    "\n",
    "# Ciara knows Python and wants to hire three more people\n",
    "ciara_knows_python = True\n",
    "remaining_positions = 3\n",
    "\n",
    "# Iterate through the candidates and select based on criteria\n",
    "for candidate, abilities in candidates.items():\n",
    "    \n",
    "    if not ciara_knows_python and remaining_positions > 0:\n",
    "        selected_candidates.append((candidate, abilities))\n",
    "        remaining_positions -= 1\n",
    "        \n",
    "    elif ciara_knows_python and 'Python' in abilities and remaining_positions > 0:\n",
    "        selected_candidates.append((candidate, abilities))\n",
    "        remaining_positions -= 1\n",
    "\n",
    "# Display the selected candidates\n",
    "selected_candidates"
   ]
  },
  {
   "cell_type": "markdown",
   "id": "c51e64c8",
   "metadata": {},
   "source": [
    "# Scenario 2\n",
    "\n",
    "## CSP Framework for Hiring Problem\n",
    "\n",
    "## Problem Statement\n",
    "\n",
    "Ciara and Juan have become partners, and with additional funds, they can now employ four more people. However, they must hire another AI Engineer. The hiring needs are as follows:\n",
    "\n",
    "- 2 Python Programmers\n",
    "- 3 AI Engineers\n",
    "- 1 Web Designer\n",
    "- 1 Database Admin\n",
    "- 1 Systems Engineer\n",
    "\n",
    "The goal is to utilize a Constraint Satisfaction Problem (CSP) framework to determine if the hiring needs can be met, and if so, detail who would be hired."
   ]
  },
  {
   "cell_type": "code",
   "execution_count": 5,
   "id": "473afb04",
   "metadata": {},
   "outputs": [
    {
     "name": "stdout",
     "output_type": "stream",
     "text": [
      "\n",
      "Solution 1:\n",
      "Python Programmer 1: Anita\n",
      "Python Programmer 2: Bruce\n",
      "AI Engineer 1: Anita\n",
      "AI Engineer 2: Bruce\n",
      "AI Engineer 3: Mary\n",
      "Web Designer: Juan\n",
      "Database Admin: Jane\n",
      "Systems Engineer: Bruce\n",
      "\n",
      "Solution 2:\n",
      "Python Programmer 1: Anita\n",
      "Python Programmer 2: Mary\n",
      "AI Engineer 1: Anita\n",
      "AI Engineer 2: Bruce\n",
      "AI Engineer 3: Mary\n",
      "Web Designer: Juan\n",
      "Database Admin: Jane\n",
      "Systems Engineer: Bruce\n",
      "\n",
      "Solution 3:\n",
      "Python Programmer 1: Anita\n",
      "Python Programmer 2: Jane\n",
      "AI Engineer 1: Anita\n",
      "AI Engineer 2: Bruce\n",
      "AI Engineer 3: Mary\n",
      "Web Designer: Juan\n",
      "Database Admin: Jane\n",
      "Systems Engineer: Bruce\n",
      "\n",
      "Solution 4:\n",
      "Python Programmer 1: Anita\n",
      "Python Programmer 2: Jim\n",
      "AI Engineer 1: Anita\n",
      "AI Engineer 2: Bruce\n",
      "AI Engineer 3: Mary\n",
      "Web Designer: Juan\n",
      "Database Admin: Jane\n",
      "Systems Engineer: Bruce\n",
      "\n",
      "Solution 5:\n",
      "Python Programmer 1: Anita\n",
      "Python Programmer 2: Juan\n",
      "AI Engineer 1: Anita\n",
      "AI Engineer 2: Bruce\n",
      "AI Engineer 3: Mary\n",
      "Web Designer: Juan\n",
      "Database Admin: Jane\n",
      "Systems Engineer: Bruce\n",
      "\n",
      "Solution 6:\n",
      "Python Programmer 1: Anita\n",
      "Python Programmer 2: Peter\n",
      "AI Engineer 1: Anita\n",
      "AI Engineer 2: Bruce\n",
      "AI Engineer 3: Mary\n",
      "Web Designer: Juan\n",
      "Database Admin: Jane\n",
      "Systems Engineer: Bruce\n"
     ]
    }
   ],
   "source": [
    "from constraint import Problem\n",
    "\n",
    "# Define the CSP problem\n",
    "problem = Problem()\n",
    "\n",
    "# Define the roles\n",
    "roles = [\n",
    "    'Python Programmer 1', 'Python Programmer 2',\n",
    "    'AI Engineer 1', 'AI Engineer 2', 'AI Engineer 3',\n",
    "    'Web Designer', 'Database Admin', 'Systems Engineer'\n",
    "]\n",
    "\n",
    "# Define the candidates and their abilities\n",
    "candidates = {\n",
    "    'Peter': ['Python', 'AI'],\n",
    "    'Juan': ['Web', 'AI'],\n",
    "    'Jim': ['AI', 'Systems'],\n",
    "    'Jane': ['Python', 'Database'],\n",
    "    'Mary': ['Web', 'Systems'],\n",
    "    'Bruce': ['Systems', 'Python'],\n",
    "    'Anita': ['Web', 'AI']\n",
    "}\n",
    "\n",
    "# Add variables to the problem\n",
    "for role in roles:\n",
    "    problem.addVariable(role, list(candidates.keys()))\n",
    "\n",
    "# Define the constraints\n",
    "# 2 Python Programmers\n",
    "problem.addConstraint(lambda p1, p2: p1 != p2, ('Python Programmer 1', 'Python Programmer 2'))\n",
    "\n",
    "# 3 AI Engineers\n",
    "problem.addConstraint(lambda a1, a2, a3: len({a1, a2, a3}) == 3, ('AI Engineer 1', 'AI Engineer 2', 'AI Engineer 3'))\n",
    "\n",
    "# 1 Web Designer, 1 Database Admin, 1 Systems Engineer\n",
    "problem.addConstraint(lambda w: w == 'Juan', ('Web Designer',))  # Juan is the Web Designer\n",
    "problem.addConstraint(lambda d: d == 'Jane', ('Database Admin',))  # Jane is the Database Admin\n",
    "problem.addConstraint(lambda s: s == 'Bruce', ('Systems Engineer',))  # Bruce is the Systems Engineer\n",
    "\n",
    "# Solve the CSP\n",
    "solutions = problem.getSolutions()\n",
    "\n",
    "# Display only 5 to 6 sets of solutions\n",
    "num_solutions_to_display = min(6, len(solutions))\n",
    "for i in range(num_solutions_to_display):\n",
    "    print(f\"\\nSolution {i + 1}:\")\n",
    "    for role in roles:\n",
    "        print(f\"{role}: {solutions[i][role]}\")"
   ]
  },
  {
   "cell_type": "markdown",
   "id": "5bb02962",
   "metadata": {},
   "source": [
    "### 2. Discuss in detail how using Constraint Satisfaction finds an answer or finds no solution to the problems in Tasks for Artificial Intelligence part 1. How does this differ from standard algorithmic solutions? .[0-30]"
   ]
  },
  {
   "cell_type": "code",
   "execution_count": null,
   "id": "9db69db6",
   "metadata": {},
   "outputs": [],
   "source": []
  },
  {
   "cell_type": "markdown",
   "id": "958b99f5",
   "metadata": {},
   "source": [
    "### 3. These problems be solved using several other algorithm’s we have studied in the module. Choose one of these algorithms and discuss your answer in detail including a proof of your hypothesis in code .[0-30]"
   ]
  },
  {
   "cell_type": "code",
   "execution_count": null,
   "id": "201bcdd7",
   "metadata": {},
   "outputs": [],
   "source": []
  }
 ],
 "metadata": {
  "kernelspec": {
   "display_name": "Python 3 (ipykernel)",
   "language": "python",
   "name": "python3"
  },
  "language_info": {
   "codemirror_mode": {
    "name": "ipython",
    "version": 3
   },
   "file_extension": ".py",
   "mimetype": "text/x-python",
   "name": "python",
   "nbconvert_exporter": "python",
   "pygments_lexer": "ipython3",
   "version": "3.9.7"
  }
 },
 "nbformat": 4,
 "nbformat_minor": 5
}
