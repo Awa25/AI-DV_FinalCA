{
 "cells": [
  {
   "cell_type": "markdown",
   "id": "5dcc9f61",
   "metadata": {},
   "source": [
    "Module Title: Artificial Intelligence / Data Visualisation & Comms\n",
    "\n",
    "Assessment Title: Individual\n",
    "\n",
    "Lecturer Name: Dr.David McQuaid / Dr.Sam Weiss\n",
    "\n",
    "Student Name: Chia Hua Lin     ID: 2020044"
   ]
  }
 ],
 "metadata": {
  "kernelspec": {
   "display_name": "Python 3 (ipykernel)",
   "language": "python",
   "name": "python3"
  },
  "language_info": {
   "codemirror_mode": {
    "name": "ipython",
    "version": 3
   },
   "file_extension": ".py",
   "mimetype": "text/x-python",
   "name": "python",
   "nbconvert_exporter": "python",
   "pygments_lexer": "ipython3",
   "version": "3.9.7"
  }
 },
 "nbformat": 4,
 "nbformat_minor": 5
}
