{
 "cells": [
  {
   "cell_type": "markdown",
   "id": "c5251984",
   "metadata": {},
   "source": [
    "**<font size=5> Module Title: Artificial Intelligence / Data Visualisation & Comms </font>**\n",
    "\n",
    "**<font size=5> Assessment Title: Individual </font>**\n",
    "\n",
    "**<font size=4> Lecturer Name: Dr.David McQuaid / Dr.Sam Weiss </font>**\n",
    "\n",
    "**<font size=4> Student Name: Chia Hua Lin &emsp; &emsp; ID: 2020044 </font>**\n",
    "\n",
    "========================================================================================================"
   ]
  },
  {
   "cell_type": "markdown",
   "id": "f14deee0",
   "metadata": {},
   "source": [
    "# <font color = red> Tasks for Artificial Intelligence </font>"
   ]
  },
  {
   "cell_type": "markdown",
   "id": "2305d46a",
   "metadata": {},
   "source": [
    "### Ciara is looking for employees for her new company, which develops and provides AI based logistic software for retailers. Ciara has determined that she needs:\n",
    "\n",
    "### 2 Python Programmers, 2 AI Engineers, 1 Web Designer, 1 Database Admin, and 1 Systems Engineer. Assume that if a person has two abilities, he or she can take on two roles in the company.\n",
    "\n",
    "### So Ciara narrowed down her selections to the following people:\n",
    "\n",
    "\n",
    "\n",
    "**Name &nbsp;  Abilities**  \n",
    "Peter &nbsp;&nbsp; Python and AI  \n",
    "Juan &nbsp;&nbsp; Web and AI  \n",
    "Jim &nbsp;&nbsp; AI and Systems  \n",
    "Jane &nbsp;&nbsp; Python and Database  \n",
    "Mary &nbsp;&nbsp; Web and Systems  \n",
    "Bruce &nbsp;&nbsp; Systems and Python  \n",
    "Anita &nbsp;&nbsp; Web and AI  \n",
    "\n",
    "\n",
    "\n",
    "### Scenario 1: Suppose Ciara knows Python, and only has funds to hire three more people.\n",
    "\n",
    "### Scenario 2: Suppose Ciara and Juan become partners, with the additional funds they can now employ four more people but must employ another AI Engineer, so they need 2 Python Programmers, 3 AI Engineers, 1 Web Designer, 1 Database Admin, and 1 Systems Engineer.\n"
   ]
  },
  {
   "cell_type": "markdown",
   "id": "5ab2837c",
   "metadata": {},
   "source": [
    "### 1. Using any CSP (Constraint Satisfaction Problem) framework (using variables, value domains, and constraints), discover if the above problems can be solved and if so detail who would be in hired.[0- 30]"
   ]
  },
  {
   "cell_type": "code",
   "execution_count": null,
   "id": "e276f4d7",
   "metadata": {},
   "outputs": [],
   "source": []
  },
  {
   "cell_type": "code",
   "execution_count": null,
   "id": "f37444c5",
   "metadata": {},
   "outputs": [],
   "source": []
  },
  {
   "cell_type": "code",
   "execution_count": null,
   "id": "ac5dcf40",
   "metadata": {},
   "outputs": [],
   "source": []
  },
  {
   "cell_type": "code",
   "execution_count": null,
   "id": "879ab11e",
   "metadata": {},
   "outputs": [],
   "source": []
  },
  {
   "cell_type": "code",
   "execution_count": null,
   "id": "9330d31d",
   "metadata": {},
   "outputs": [],
   "source": []
  }
 ],
 "metadata": {
  "kernelspec": {
   "display_name": "Python 3 (ipykernel)",
   "language": "python",
   "name": "python3"
  },
  "language_info": {
   "codemirror_mode": {
    "name": "ipython",
    "version": 3
   },
   "file_extension": ".py",
   "mimetype": "text/x-python",
   "name": "python",
   "nbconvert_exporter": "python",
   "pygments_lexer": "ipython3",
   "version": "3.9.7"
  }
 },
 "nbformat": 4,
 "nbformat_minor": 5
}
