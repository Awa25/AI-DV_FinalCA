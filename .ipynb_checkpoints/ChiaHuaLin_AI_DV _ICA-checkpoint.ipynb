{
 "cells": [
  {
   "cell_type": "markdown",
   "id": "0ab41df1",
   "metadata": {},
   "source": [
    "**<font size=5> Module Title: Artificial Intelligence / Data Visualisation & Comms </font>**\n",
    "\n",
    "**<font size=5> Assessment Title: Individual </font>**\n",
    "\n",
    "**<font size=4> Lecturer Name: Dr.David McQuaid / Dr.Sam Weiss </font>**\n",
    "\n",
    "**<font size=4> Student Name: Chia Hua Lin &emsp; &emsp; ID: 2020044 </font>**\n",
    "\n",
    "========================================================================================================"
   ]
  },
  {
   "cell_type": "markdown",
   "id": "3ed4a741",
   "metadata": {},
   "source": [
    "# <font color=red size=6> Tasks for Artificial Intelligence </font>"
   ]
  },
  {
   "cell_type": "markdown",
   "id": "38231891",
   "metadata": {},
   "source": [
    "<font size=3> Ciara is looking for employees for her new company, which develops and provides AI based logistic software for retailers. Ciara has determined that she needs: </font>\n",
    "\n",
    "<font size=3> Python Programmers, 2 AI Engineers, 1 Web Designer, 1 Database Admin, and 1 Systems Engineer. Assume that if a person has two abilities, he or she can take on two roles in the company. </font>\n",
    "\n",
    "<font size=3> So Ciara narrowed down her selections to the following people: </font>\n",
    "\n",
    "\n",
    "\n",
    "**Name &nbsp;  Abilities**  \n",
    "Peter &nbsp;&nbsp; Python and AI  \n",
    "Juan &nbsp;&nbsp; Web and AI  \n",
    "Jim &nbsp;&nbsp; AI and Systems  \n",
    "Jane &nbsp;&nbsp; Python and Database  \n",
    "Mary &nbsp;&nbsp; Web and Systems  \n",
    "Bruce &nbsp;&nbsp; Systems and Python  \n",
    "Anita &nbsp;&nbsp; Web and AI  "
   ]
  },
  {
   "cell_type": "markdown",
   "id": "b14ce90c",
   "metadata": {},
   "source": [
    "# Scenario 1:   \n",
    "\n",
    "## Problem Statement\n",
    "\n",
    "Ciara knows Python and has funds to hire three more people. The hiring needs are as follows:\n",
    "\n",
    "- 2 Python Programmers\n",
    "- 3 AI Engineers\n",
    "- 1 Web Designer\n",
    "- 1 Database Admin\n",
    "- 1 Systems Engineer\n",
    "\n",
    "The goal is to utilize a Constraint Satisfaction Problem (CSP) framework to determine if the hiring needs can be met, considering that Ciara knows Python and only has funds to hire three more people."
   ]
  },
  {
   "cell_type": "code",
   "execution_count": 1,
   "id": "369bcc51",
   "metadata": {},
   "outputs": [
    {
     "name": "stdout",
     "output_type": "stream",
     "text": [
      "Collecting python-constraint\n",
      "  Downloading python-constraint-1.4.0.tar.bz2 (18 kB)\n",
      "Building wheels for collected packages: python-constraint\n",
      "  Building wheel for python-constraint (setup.py) ... \u001b[?25ldone\n",
      "\u001b[?25h  Created wheel for python-constraint: filename=python_constraint-1.4.0-py2.py3-none-any.whl size=24081 sha256=1185cac8b808ebe87fb814cf03798ddf90ba636ce02c54d1ba005b65af496d87\n",
      "  Stored in directory: /Users/awa/Library/Caches/pip/wheels/51/36/1f/c2ccb8dc4eba38c5215636d4ae2c480b32069cab0376bcc1a4\n",
      "Successfully built python-constraint\n",
      "Installing collected packages: python-constraint\n",
      "Successfully installed python-constraint-1.4.0\n"
     ]
    }
   ],
   "source": [
    "!pip install python-constraint"
   ]
  },
  {
   "cell_type": "code",
   "execution_count": 21,
   "id": "ee9ed77d",
   "metadata": {},
   "outputs": [
    {
     "data": {
      "text/plain": [
       "[('Peter', ['Python', 'AI']),\n",
       " ('Jane', ['Python', 'Database']),\n",
       " ('Bruce', ['Systems', 'Python'])]"
      ]
     },
     "execution_count": 21,
     "metadata": {},
     "output_type": "execute_result"
    }
   ],
   "source": [
    "# Define the list of potential candidates and their abilities\n",
    "candidates = {\n",
    "    'Peter': ['Python', 'AI'],\n",
    "    'Juan': ['Web', 'AI'],\n",
    "    'Jim': ['AI', 'Systems'],\n",
    "    'Jane': ['Python', 'Database'],\n",
    "    'Mary': ['Web', 'Systems'],\n",
    "    'Bruce': ['Systems', 'Python'],\n",
    "    'Anita': ['Web', 'AI']\n",
    "}\n",
    "\n",
    "# Ciara's requirements\n",
    "required_roles = {\n",
    "    'Python Programmer': 2,\n",
    "    'AI Engineer': 2,\n",
    "    'Web Designer': 1,\n",
    "    'Database Admin': 1,\n",
    "    'Systems Engineer': 1\n",
    "}\n",
    "\n",
    "# Initialize the selected candidates list\n",
    "selected_candidates = []\n",
    "\n",
    "# Ciara knows Python and wants to hire three more people\n",
    "ciara_knows_python = True\n",
    "remaining_positions = 3\n",
    "\n",
    "# Iterate through the candidates and select based on criteria\n",
    "for candidate, abilities in candidates.items():\n",
    "    \n",
    "    if not ciara_knows_python and remaining_positions > 0:\n",
    "        selected_candidates.append((candidate, abilities))\n",
    "        remaining_positions -= 1\n",
    "        \n",
    "    elif ciara_knows_python and 'Python' in abilities and remaining_positions > 0:\n",
    "        selected_candidates.append((candidate, abilities))\n",
    "        remaining_positions -= 1\n",
    "\n",
    "# Display the selected candidates\n",
    "selected_candidates"
   ]
  },
  {
   "cell_type": "markdown",
   "id": "3b7cae8a",
   "metadata": {},
   "source": [
    "# Scenario 2\n",
    "\n",
    "## CSP Framework for Hiring Problem\n",
    "\n",
    "## Problem Statement\n",
    "\n",
    "Ciara and Juan have become partners, and with additional funds, they can now employ four more people. However, they must hire another AI Engineer. The hiring needs are as follows:\n",
    "\n",
    "- 2 Python Programmers\n",
    "- 3 AI Engineers\n",
    "- 1 Web Designer\n",
    "- 1 Database Admin\n",
    "- 1 Systems Engineer\n",
    "\n",
    "The goal is to utilize a Constraint Satisfaction Problem (CSP) framework to determine if the hiring needs can be met, and if so, detail who would be hired."
   ]
  },
  {
   "cell_type": "code",
   "execution_count": 22,
   "id": "9a5760e6",
   "metadata": {},
   "outputs": [
    {
     "name": "stdout",
     "output_type": "stream",
     "text": [
      "\u001b[1m\n",
      "Solution 1:\u001b[0m\n",
      "Python Programmer 1: Anita\n",
      "Python Programmer 2: Bruce\n",
      "AI Engineer 1: Anita\n",
      "AI Engineer 2: Bruce\n",
      "AI Engineer 3: Mary\n",
      "Web Designer: Juan\n",
      "Database Admin: Jane\n",
      "Systems Engineer: Bruce\n",
      "\u001b[1m\n",
      "Solution 2:\u001b[0m\n",
      "Python Programmer 1: Anita\n",
      "Python Programmer 2: Mary\n",
      "AI Engineer 1: Anita\n",
      "AI Engineer 2: Bruce\n",
      "AI Engineer 3: Mary\n",
      "Web Designer: Juan\n",
      "Database Admin: Jane\n",
      "Systems Engineer: Bruce\n",
      "\u001b[1m\n",
      "Solution 3:\u001b[0m\n",
      "Python Programmer 1: Anita\n",
      "Python Programmer 2: Jane\n",
      "AI Engineer 1: Anita\n",
      "AI Engineer 2: Bruce\n",
      "AI Engineer 3: Mary\n",
      "Web Designer: Juan\n",
      "Database Admin: Jane\n",
      "Systems Engineer: Bruce\n",
      "\u001b[1m\n",
      "Solution 4:\u001b[0m\n",
      "Python Programmer 1: Anita\n",
      "Python Programmer 2: Jim\n",
      "AI Engineer 1: Anita\n",
      "AI Engineer 2: Bruce\n",
      "AI Engineer 3: Mary\n",
      "Web Designer: Juan\n",
      "Database Admin: Jane\n",
      "Systems Engineer: Bruce\n",
      "\u001b[1m\n",
      "Solution 5:\u001b[0m\n",
      "Python Programmer 1: Anita\n",
      "Python Programmer 2: Juan\n",
      "AI Engineer 1: Anita\n",
      "AI Engineer 2: Bruce\n",
      "AI Engineer 3: Mary\n",
      "Web Designer: Juan\n",
      "Database Admin: Jane\n",
      "Systems Engineer: Bruce\n",
      "\u001b[1m\n",
      "Solution 6:\u001b[0m\n",
      "Python Programmer 1: Anita\n",
      "Python Programmer 2: Peter\n",
      "AI Engineer 1: Anita\n",
      "AI Engineer 2: Bruce\n",
      "AI Engineer 3: Mary\n",
      "Web Designer: Juan\n",
      "Database Admin: Jane\n",
      "Systems Engineer: Bruce\n"
     ]
    }
   ],
   "source": [
    "from constraint import Problem\n",
    "\n",
    "# Define the CSP problem\n",
    "problem = Problem()\n",
    "\n",
    "# Define the roles\n",
    "roles = [\n",
    "    'Python Programmer 1', \n",
    "    'Python Programmer 2',\n",
    "    'AI Engineer 1', \n",
    "    'AI Engineer 2', \n",
    "    'AI Engineer 3',\n",
    "    'Web Designer', \n",
    "    'Database Admin', \n",
    "    'Systems Engineer'\n",
    "]\n",
    "\n",
    "# Define the candidates and their abilities\n",
    "candidates = {\n",
    "    'Peter': ['Python', 'AI'],\n",
    "    'Juan': ['Web', 'AI'],\n",
    "    'Jim': ['AI', 'Systems'],\n",
    "    'Jane': ['Python', 'Database'],\n",
    "    'Mary': ['Web', 'Systems'],\n",
    "    'Bruce': ['Systems', 'Python'],\n",
    "    'Anita': ['Web', 'AI']\n",
    "}\n",
    "\n",
    "# Add variables to the problem\n",
    "for role in roles:\n",
    "    problem.addVariable(role, list(candidates.keys()))\n",
    "\n",
    "# Define the constraints\n",
    "# 2 Python Programmers\n",
    "problem.addConstraint(lambda p1, p2: p1 != p2, ('Python Programmer 1', 'Python Programmer 2'))\n",
    "\n",
    "# 3 AI Engineers\n",
    "problem.addConstraint(lambda a1, a2, a3: len({a1, a2, a3}) == 3, ('AI Engineer 1', 'AI Engineer 2', 'AI Engineer 3'))\n",
    "\n",
    "# 1 Web Designer, 1 Database Admin, 1 Systems Engineer\n",
    "problem.addConstraint(lambda w: w == 'Juan', ('Web Designer',))  # Juan is the Web Designer\n",
    "problem.addConstraint(lambda d: d == 'Jane', ('Database Admin',))  # Jane is the Database Admin\n",
    "problem.addConstraint(lambda s: s == 'Bruce', ('Systems Engineer',))  # Bruce is the Systems Engineer\n",
    "\n",
    "# Solve the CSP\n",
    "solutions = problem.getSolutions()\n",
    "\n",
    "# Display only 5 to 6 sets of solutions\n",
    "num_solutions_to_display = min(6, len(solutions))\n",
    "for i in range(num_solutions_to_display):\n",
    "# for i in range(len(solutions)):\n",
    "    print(\"\\033[1m\" + f\"\\nSolution {i + 1}:\" + \"\\033[0m\")\n",
    "    for role in roles:\n",
    "        print(f\"{role}: {solutions[i][role]}\")"
   ]
  },
  {
   "cell_type": "markdown",
   "id": "330abff0",
   "metadata": {},
   "source": [
    "# Constraint Satisfaction for Role Assignment in Artificial Intelligence Tasks\n",
    "\n",
    "## Senerio 2 - Question 2"
   ]
  },
  {
   "cell_type": "code",
   "execution_count": 23,
   "id": "29776c88",
   "metadata": {},
   "outputs": [
    {
     "name": "stdout",
     "output_type": "stream",
     "text": [
      "No solution found.\n"
     ]
    }
   ],
   "source": [
    "from constraint import Problem, AllDifferentConstraint\n",
    "\n",
    "# Define the roles and candidates\n",
    "roles = ['Python Programmer 1', \n",
    "         'Python Programmer 2', \n",
    "         'AI Engineer 1', \n",
    "         'AI Engineer 2', \n",
    "         'AI Engineer 3',\n",
    "         'Web Designer', \n",
    "         'Database Admin', \n",
    "         'Systems Engineer'\n",
    "        ]\n",
    "\n",
    "candidates = {\n",
    "    'Peter': ['Python', 'AI'],\n",
    "    'Juan': ['Web', 'AI'],\n",
    "    'Jim': ['AI', 'Systems'],\n",
    "    'Jane': ['Python', 'Database'],\n",
    "    'Mary': ['Web', 'Systems'],\n",
    "    'Bruce': ['Systems', 'Python'],\n",
    "    'Anita': ['Web', 'AI']\n",
    "}\n",
    "\n",
    "# Function to initialize a CSP problem\n",
    "def initialize_csp():\n",
    "    problem = Problem()\n",
    "\n",
    "    # Add variables and their domains\n",
    "    for role in roles:\n",
    "        problem.addVariable(role, list(candidates.keys()))\n",
    "\n",
    "    # Add constraints (e.g., each candidate can only be assigned to one role)\n",
    "    problem.addConstraint(AllDifferentConstraint(), roles)\n",
    "\n",
    "    return problem\n",
    "\n",
    "# Solve the CSP problem\n",
    "csp_problem = initialize_csp()\n",
    "solutions = csp_problem.getSolutions()\n",
    "\n",
    "# Display the solutions\n",
    "if solutions:\n",
    "    print(\"Solution:\")\n",
    "    for solution in solutions[0]:\n",
    "        print(f\"{solution}: {solutions[0][solution]}\")\n",
    "else:\n",
    "    print(\"No solution found.\")"
   ]
  },
  {
   "cell_type": "markdown",
   "id": "5bb02962",
   "metadata": {},
   "source": [
    "# Genetic Algorithm for Optimized Role Assignment in Artificial Intelligence Tasks\n",
    "\n",
    "## Senerio 2 - Question 3"
   ]
  },
  {
   "cell_type": "code",
   "execution_count": 24,
   "id": "9db69db6",
   "metadata": {},
   "outputs": [
    {
     "name": "stdout",
     "output_type": "stream",
     "text": [
      "\u001b[1mBest Solution:\u001b[0m\n",
      "Python Programmer 1: Bruce\n",
      "Python Programmer 2: Juan\n",
      "AI Engineer 1: Anita\n",
      "AI Engineer 2: Bruce\n",
      "AI Engineer 3: Jane\n",
      "Web Designer: Peter\n",
      "Database Admin: Bruce\n",
      "Systems Engineer: Bruce\n"
     ]
    }
   ],
   "source": [
    "import random\n",
    "\n",
    "# Define the roles and candidates\n",
    "roles = ['Python Programmer 1', \n",
    "         'Python Programmer 2', \n",
    "         'AI Engineer 1', \n",
    "         'AI Engineer 2', \n",
    "         'AI Engineer 3',\n",
    "         'Web Designer', \n",
    "         'Database Admin', \n",
    "         'Systems Engineer'\n",
    "        ]\n",
    "\n",
    "candidates = {\n",
    "    'Peter': ['Python', 'AI'],\n",
    "    'Juan': ['Web', 'AI'],\n",
    "    'Jim': ['AI', 'Systems'],\n",
    "    'Jane': ['Python', 'Database'],\n",
    "    'Mary': ['Web', 'Systems'],\n",
    "    'Bruce': ['Systems', 'Python'],\n",
    "    'Anita': ['Web', 'AI']\n",
    "}\n",
    "\n",
    "# Genetic Algorithm parameters\n",
    "population_size = 10\n",
    "generations = 100\n",
    "mutation_rate = 0.1  # Adjust as needed\n",
    "\n",
    "# Function to calculate the fitness of a solution\n",
    "def fitness(solution):\n",
    "    \n",
    "    # For example, you might penalize solutions that violate constraints or prioritize specific skills\n",
    "    score = 0\n",
    "    for role, candidate in solution:\n",
    "        if candidate in candidates and role in roles:\n",
    "            score += 1\n",
    "\n",
    "    return score\n",
    "\n",
    "# Function to initialize a random population\n",
    "def initialize_population():\n",
    "    return [(role, random.choice(list(candidates.keys()))) for role in roles]\n",
    "\n",
    "# Function to apply mutation to an individual\n",
    "def mutate(individual):\n",
    "    \n",
    "    # Apply mutation with a certain probability\n",
    "    if random.random() < mutation_rate:\n",
    "        role_to_mutate = random.choice(roles)\n",
    "        new_candidate = random.choice(list(candidates.keys()))\n",
    "        individual[roles.index(role_to_mutate)] = (role_to_mutate, new_candidate)\n",
    "\n",
    "# Genetic Algorithm main loop\n",
    "def genetic_algorithm():\n",
    "    population = [initialize_population() for _ in range(population_size)]\n",
    "\n",
    "    for generation in range(generations):\n",
    "        \n",
    "        # Evaluate the fitness of each individual in the population\n",
    "        fitness_scores = [fitness(individual) for individual in population]\n",
    "\n",
    "        # Select individuals for reproduction (based on fitness)\n",
    "        selected_population = [x for _, x in sorted(zip(fitness_scores, population), reverse=True)[:population_size // 2]]\n",
    "\n",
    "        # Apply crossover and mutation to create a new generation\n",
    "        new_population = []\n",
    "        \n",
    "        for _ in range(population_size // 2):\n",
    "            parent1, parent2 = random.sample(selected_population, 2)\n",
    "            crossover_point = random.randint(1, len(roles) - 1)\n",
    "            child = parent1[:crossover_point] + parent2[crossover_point:]\n",
    "            \n",
    "            # Apply mutation\n",
    "            mutate(child)\n",
    "            new_population.append(child)\n",
    "\n",
    "        # Replace the old population with the new generation\n",
    "        population = new_population\n",
    "\n",
    "    # Return the best solution from the final population\n",
    "    best_solution = max(population, key=fitness)\n",
    "    return best_solution\n",
    "\n",
    "# Run the Genetic Algorithm\n",
    "best_solution = genetic_algorithm()\n",
    "\n",
    "# Display the best solution\n",
    "print(\"\\033[1m\" + \"Best Solution:\" + \"\\033[0m\")\n",
    "for role, candidate in best_solution:\n",
    "    print(f\"{role}: {candidate}\")"
   ]
  },
  {
   "cell_type": "markdown",
   "id": "0f846ca8",
   "metadata": {},
   "source": [
    "# <font color=red size=6> Tasks for Visualization </font>"
   ]
  },
  {
   "cell_type": "markdown",
   "id": "958b99f5",
   "metadata": {},
   "source": [
    "# Visualisations to help communicate the CSP scenario and the corresponding solutions"
   ]
  },
  {
   "cell_type": "code",
   "execution_count": 25,
   "id": "201bcdd7",
   "metadata": {},
   "outputs": [
    {
     "data": {
      "image/png": "[encoded data removed]",
      "text/plain": [
       "<Figure size 720x432 with 1 Axes>"
      ]
     },
     "metadata": {
      "needs_background": "light"
     },
     "output_type": "display_data"
    },
    {
     "data": {
      "image/png": "[encoded data removed]",
      "text/plain": [
       "<Figure size 720x432 with 1 Axes>"
      ]
     },
     "metadata": {
      "needs_background": "light"
     },
     "output_type": "display_data"
    },
    {
     "data": {
      "image/png": "[encoded data removed]",
      "text/plain": [
       "<Figure size 720x432 with 1 Axes>"
      ]
     },
     "metadata": {
      "needs_background": "light"
     },
     "output_type": "display_data"
    },
    {
     "data": {
      "image/png": "[encoded data removed]",
      "text/plain": [
       "<Figure size 720x432 with 1 Axes>"
      ]
     },
     "metadata": {
      "needs_background": "light"
     },
     "output_type": "display_data"
    },
    {
     "data": {
      "image/png": "[encoded data removed]",
      "text/plain": [
       "<Figure size 720x432 with 1 Axes>"
      ]
     },
     "metadata": {
      "needs_background": "light"
     },
     "output_type": "display_data"
    },
    {
     "data": {
      "image/png": "[encoded data removed]",
      "text/plain": [
       "<Figure size 720x432 with 1 Axes>"
      ]
     },
     "metadata": {
      "needs_background": "light"
     },
     "output_type": "display_data"
    }
   ],
   "source": [
    "import matplotlib.pyplot as plt\n",
    "from constraint import Problem\n",
    "\n",
    "# Define the CSP problem\n",
    "problem = Problem()\n",
    "\n",
    "# Define the roles\n",
    "roles = [\n",
    "    'Python Programmer 1',\n",
    "    'Python Programmer 2',\n",
    "    'AI Engineer 1',\n",
    "    'AI Engineer 2',\n",
    "    'AI Engineer 3',\n",
    "    'Web Designer',\n",
    "    'Database Admin',\n",
    "    'Systems Engineer'\n",
    "]\n",
    "\n",
    "# Define the candidates and their abilities\n",
    "candidates = {\n",
    "    'Peter': ['Python', 'AI'],\n",
    "    'Juan': ['Web', 'AI'],\n",
    "    'Jim': ['AI', 'Systems'],\n",
    "    'Jane': ['Python', 'Database'],\n",
    "    'Mary': ['Web', 'Systems'],\n",
    "    'Bruce': ['Systems', 'Python'],\n",
    "    'Anita': ['Web', 'AI']\n",
    "}\n",
    "\n",
    "# Add variables to the problem\n",
    "for role in roles:\n",
    "    problem.addVariable(role, list(candidates.keys()))\n",
    "\n",
    "# Define the constraints\n",
    "# 2 Python Programmers\n",
    "problem.addConstraint(lambda p1, p2: p1 != p2, ('Python Programmer 1', 'Python Programmer 2'))\n",
    "\n",
    "# 3 AI Engineers\n",
    "problem.addConstraint(lambda a1, a2, a3: len({a1, a2, a3}) == 3, ('AI Engineer 1', 'AI Engineer 2', 'AI Engineer 3'))\n",
    "\n",
    "# 1 Web Designer, 1 Database Admin, 1 Systems Engineer\n",
    "problem.addConstraint(lambda w: w == 'Juan', ('Web Designer',))  # Juan is the Web Designer\n",
    "problem.addConstraint(lambda d: d == 'Jane', ('Database Admin',))  # Jane is the Database Admin\n",
    "problem.addConstraint(lambda s: s == 'Bruce', ('Systems Engineer',))  # Bruce is the Systems Engineer\n",
    "\n",
    "# Solve the CSP\n",
    "solutions = problem.getSolutions()[:6]\n",
    "# Extract all unique candidates from the original candidates list\n",
    "all_candidates = list(set(candidate for solution in solutions for candidate in solution.values()))\n",
    "\n",
    "# Sort roles to ensure consistent order\n",
    "sorted_roles = sorted(roles)\n",
    "\n",
    "# Create a horizontal bar chart for each solution\n",
    "for solution_num, solution in enumerate(solutions, 1):\n",
    "    fig, ax = plt.subplots(figsize=(10, 6))\n",
    "\n",
    "    for i, role in enumerate(sorted_roles):\n",
    "        candidate = solution.get(role, 'No Candidate')  # Get candidate for the role or use 'No Candidate' if not assigned\n",
    "        ax.barh(i, 1, left=all_candidates.index(candidate), color='skyblue', edgecolor='black', height=0.6)\n",
    "\n",
    "    # Set y-axis ticks and labels\n",
    "    ax.set_yticks(range(len(sorted_roles)))\n",
    "    ax.set_yticklabels(sorted_roles)\n",
    "\n",
    "    # Set x-axis ticks and labels\n",
    "    ax.set_xticks(range(len(all_candidates)))\n",
    "    ax.set_xticklabels(all_candidates)\n",
    "\n",
    "    # Set plot labels and title\n",
    "    plt.xlabel('Candidates')\n",
    "    plt.ylabel('Roles')\n",
    "    plt.title(f'Solution {solution_num} - Candidate-Role Assignments')\n",
    "\n",
    "    # Invert y-axis to have the roles listed from top to bottom\n",
    "    ax.invert_yaxis()\n",
    "\n",
    "    plt.show()"
   ]
  },
  {
   "cell_type": "markdown",
   "id": "8cd1354f",
   "metadata": {},
   "source": [
    "# Create interactive visualization"
   ]
  },
  {
   "cell_type": "code",
   "execution_count": 41,
   "id": "0c24669d",
   "metadata": {},
   "outputs": [
    {
     "data": {
      "application/vnd.plotly.v1+json": {
       "config": {
        "plotlyServerURL": "https://plot.ly"
       },
       "data": [
        {
         "hovertemplate": "%{text}: %{x}<extra></extra>",
         "marker": {
          "color": "rgb(228,26,28)"
         },
         "name": "Solution 1",
         "orientation": "h",
         "text": [
          "Solution 1",
          "Solution 1",
          "Solution 1",
          "Solution 1",
          "Solution 1",
          "Solution 1",
          "Solution 1",
          "Solution 1"
         ],
         "type": "bar",
         "visible": true,
         "x": [
          "Anita",
          "Bruce",
          "Mary",
          "Jane",
          "Anita",
          "Bruce",
          "Bruce",
          "Juan"
         ],
         "y": [
          "AI Engineer 1",
          "AI Engineer 2",
          "AI Engineer 3",
          "Database Admin",
          "Python Programmer 1",
          "Python Programmer 2",
          "Systems Engineer",
          "Web Designer"
         ]
        },
        {
         "hovertemplate": "%{text}: %{x}<extra></extra>",
         "marker": {
          "color": "rgb(55,126,184)"
         },
         "name": "Solution 2",
         "orientation": "h",
         "text": [
          "Solution 2",
          "Solution 2",
          "Solution 2",
          "Solution 2",
          "Solution 2",
          "Solution 2",
          "Solution 2",
          "Solution 2"
         ],
         "type": "bar",
         "visible": false,
         "x": [
          "Anita",
          "Bruce",
          "Mary",
          "Jane",
          "Anita",
          "Mary",
          "Bruce",
          "Juan"
         ],
         "y": [
          "AI Engineer 1",
          "AI Engineer 2",
          "AI Engineer 3",
          "Database Admin",
          "Python Programmer 1",
          "Python Programmer 2",
          "Systems Engineer",
          "Web Designer"
         ]
        },
        {
         "hovertemplate": "%{text}: %{x}<extra></extra>",
         "marker": {
          "color": "rgb(77,175,74)"
         },
         "name": "Solution 3",
         "orientation": "h",
         "text": [
          "Solution 3",
          "Solution 3",
          "Solution 3",
          "Solution 3",
          "Solution 3",
          "Solution 3",
          "Solution 3",
          "Solution 3"
         ],
         "type": "bar",
         "visible": false,
         "x": [
          "Anita",
          "Bruce",
          "Mary",
          "Jane",
          "Anita",
          "Jane",
          "Bruce",
          "Juan"
         ],
         "y": [
          "AI Engineer 1",
          "AI Engineer 2",
          "AI Engineer 3",
          "Database Admin",
          "Python Programmer 1",
          "Python Programmer 2",
          "Systems Engineer",
          "Web Designer"
         ]
        },
        {
         "hovertemplate": "%{text}: %{x}<extra></extra>",
         "marker": {
          "color": "rgb(152,78,163)"
         },
         "name": "Solution 4",
         "orientation": "h",
         "text": [
          "Solution 4",
          "Solution 4",
          "Solution 4",
          "Solution 4",
          "Solution 4",
          "Solution 4",
          "Solution 4",
          "Solution 4"
         ],
         "type": "bar",
         "visible": false,
         "x": [
          "Anita",
          "Bruce",
          "Mary",
          "Jane",
          "Anita",
          "Jim",
          "Bruce",
          "Juan"
         ],
         "y": [
          "AI Engineer 1",
          "AI Engineer 2",
          "AI Engineer 3",
          "Database Admin",
          "Python Programmer 1",
          "Python Programmer 2",
          "Systems Engineer",
          "Web Designer"
         ]
        },
        {
         "hovertemplate": "%{text}: %{x}<extra></extra>",
         "marker": {
          "color": "rgb(255,127,0)"
         },
         "name": "Solution 5",
         "orientation": "h",
         "text": [
          "Solution 5",
          "Solution 5",
          "Solution 5",
          "Solution 5",
          "Solution 5",
          "Solution 5",
          "Solution 5",
          "Solution 5"
         ],
         "type": "bar",
         "visible": false,
         "x": [
          "Anita",
          "Bruce",
          "Mary",
          "Jane",
          "Anita",
          "Juan",
          "Bruce",
          "Juan"
         ],
         "y": [
          "AI Engineer 1",
          "AI Engineer 2",
          "AI Engineer 3",
          "Database Admin",
          "Python Programmer 1",
          "Python Programmer 2",
          "Systems Engineer",
          "Web Designer"
         ]
        },
        {
         "hovertemplate": "%{text}: %{x}<extra></extra>",
         "marker": {
          "color": "rgb(255,255,51)"
         },
         "name": "Solution 6",
         "orientation": "h",
         "text": [
          "Solution 6",
          "Solution 6",
          "Solution 6",
          "Solution 6",
          "Solution 6",
          "Solution 6",
          "Solution 6",
          "Solution 6"
         ],
         "type": "bar",
         "visible": false,
         "x": [
          "Anita",
          "Bruce",
          "Mary",
          "Jane",
          "Anita",
          "Peter",
          "Bruce",
          "Juan"
         ],
         "y": [
          "AI Engineer 1",
          "AI Engineer 2",
          "AI Engineer 3",
          "Database Admin",
          "Python Programmer 1",
          "Python Programmer 2",
          "Systems Engineer",
          "Web Designer"
         ]
        }
       ],
       "layout": {
        "margin": {
         "b": 100,
         "l": 100,
         "r": 100,
         "t": 100
        },
        "template": {
         "data": {
          "bar": [
           {
            "error_x": {
             "color": "#2a3f5f"
            },
            "error_y": {
             "color": "#2a3f5f"
            },
            "marker": {
             "line": {
              "color": "white",
              "width": 0.5
             },
             "pattern": {
              "fillmode": "overlay",
              "size": 10,
              "solidity": 0.2
             }
            },
            "type": "bar"
           }
          ],
          "barpolar": [
           {
            "marker": {
             "line": {
              "color": "white",
              "width": 0.5
             },
             "pattern": {
              "fillmode": "overlay",
              "size": 10,
              "solidity": 0.2
             }
            },
            "type": "barpolar"
           }
          ],
          "carpet": [
           {
            "aaxis": {
             "endlinecolor": "#2a3f5f",
             "gridcolor": "#C8D4E3",
             "linecolor": "#C8D4E3",
             "minorgridcolor": "#C8D4E3",
             "startlinecolor": "#2a3f5f"
            },
            "baxis": {
             "endlinecolor": "#2a3f5f",
             "gridcolor": "#C8D4E3",
             "linecolor": "#C8D4E3",
             "minorgridcolor": "#C8D4E3",
             "startlinecolor": "#2a3f5f"
            },
            "type": "carpet"
           }
          ],
          "choropleth": [
           {
            "colorbar": {
             "outlinewidth": 0,
             "ticks": ""
            },
            "type": "choropleth"
           }
          ],
          "contour": [
           {
            "colorbar": {
             "outlinewidth": 0,
             "ticks": ""
            },
            "colorscale": [
             [
              0,
              "#0d0887"
             ],
             [
              0.1111111111111111,
              "#46039f"
             ],
             [
              0.2222222222222222,
              "#7201a8"
             ],
             [
              0.3333333333333333,
              "#9c179e"
             ],
             [
              0.4444444444444444,
              "#bd3786"
             ],
             [
              0.5555555555555556,
              "#d8576b"
             ],
             [
              0.6666666666666666,
              "#ed7953"
             ],
             [
              0.7777777777777778,
              "#fb9f3a"
             ],
             [
              0.8888888888888888,
              "#fdca26"
             ],
             [
              1,
              "#f0f921"
             ]
            ],
            "type": "contour"
           }
          ],
          "contourcarpet": [
           {
            "colorbar": {
             "outlinewidth": 0,
             "ticks": ""
            },
            "type": "contourcarpet"
           }
          ],
          "heatmap": [
           {
            "colorbar": {
             "outlinewidth": 0,
             "ticks": ""
            },
            "colorscale": [
             [
              0,
              "#0d0887"
             ],
             [
              0.1111111111111111,
              "#46039f"
             ],
             [
              0.2222222222222222,
              "#7201a8"
             ],
             [
              0.3333333333333333,
              "#9c179e"
             ],
             [
              0.4444444444444444,
              "#bd3786"
             ],
             [
              0.5555555555555556,
              "#d8576b"
             ],
             [
              0.6666666666666666,
              "#ed7953"
             ],
             [
              0.7777777777777778,
              "#fb9f3a"
             ],
             [
              0.8888888888888888,
              "#fdca26"
             ],
             [
              1,
              "#f0f921"
             ]
            ],
            "type": "heatmap"
           }
          ],
          "heatmapgl": [
           {
            "colorbar": {
             "outlinewidth": 0,
             "ticks": ""
            },
            "colorscale": [
             [
              0,
              "#0d0887"
             ],
             [
              0.1111111111111111,
              "#46039f"
             ],
             [
              0.2222222222222222,
              "#7201a8"
             ],
             [
              0.3333333333333333,
              "#9c179e"
             ],
             [
              0.4444444444444444,
              "#bd3786"
             ],
             [
              0.5555555555555556,
              "#d8576b"
             ],
             [
              0.6666666666666666,
              "#ed7953"
             ],
             [
              0.7777777777777778,
              "#fb9f3a"
             ],
             [
              0.8888888888888888,
              "#fdca26"
             ],
             [
              1,
              "#f0f921"
             ]
            ],
            "type": "heatmapgl"
           }
          ],
          "histogram": [
           {
            "marker": {
             "pattern": {
              "fillmode": "overlay",
              "size": 10,
              "solidity": 0.2
             }
            },
            "type": "histogram"
           }
          ],
          "histogram2d": [
           {
            "colorbar": {
             "outlinewidth": 0,
             "ticks": ""
            },
            "colorscale": [
             [
              0,
              "#0d0887"
             ],
             [
              0.1111111111111111,
              "#46039f"
             ],
             [
              0.2222222222222222,
              "#7201a8"
             ],
             [
              0.3333333333333333,
              "#9c179e"
             ],
             [
              0.4444444444444444,
              "#bd3786"
             ],
             [
              0.5555555555555556,
              "#d8576b"
             ],
             [
              0.6666666666666666,
              "#ed7953"
             ],
             [
              0.7777777777777778,
              "#fb9f3a"
             ],
             [
              0.8888888888888888,
              "#fdca26"
             ],
             [
              1,
              "#f0f921"
             ]
            ],
            "type": "histogram2d"
           }
          ],
          "histogram2dcontour": [
           {
            "colorbar": {
             "outlinewidth": 0,
             "ticks": ""
            },
            "colorscale": [
             [
              0,
              "#0d0887"
             ],
             [
              0.1111111111111111,
              "#46039f"
             ],
             [
              0.2222222222222222,
              "#7201a8"
             ],
             [
              0.3333333333333333,
              "#9c179e"
             ],
             [
              0.4444444444444444,
              "#bd3786"
             ],
             [
              0.5555555555555556,
              "#d8576b"
             ],
             [
              0.6666666666666666,
              "#ed7953"
             ],
             [
              0.7777777777777778,
              "#fb9f3a"
             ],
             [
              0.8888888888888888,
              "#fdca26"
             ],
             [
              1,
              "#f0f921"
             ]
            ],
            "type": "histogram2dcontour"
           }
          ],
          "mesh3d": [
           {
            "colorbar": {
             "outlinewidth": 0,
             "ticks": ""
            },
            "type": "mesh3d"
           }
          ],
          "parcoords": [
           {
            "line": {
             "colorbar": {
              "outlinewidth": 0,
              "ticks": ""
             }
            },
            "type": "parcoords"
           }
          ],
          "pie": [
           {
            "automargin": true,
            "type": "pie"
           }
          ],
          "scatter": [
           {
            "fillpattern": {
             "fillmode": "overlay",
             "size": 10,
             "solidity": 0.2
            },
            "type": "scatter"
           }
          ],
          "scatter3d": [
           {
            "line": {
             "colorbar": {
              "outlinewidth": 0,
              "ticks": ""
             }
            },
            "marker": {
             "colorbar": {
              "outlinewidth": 0,
              "ticks": ""
             }
            },
            "type": "scatter3d"
           }
          ],
          "scattercarpet": [
           {
            "marker": {
             "colorbar": {
              "outlinewidth": 0,
              "ticks": ""
             }
            },
            "type": "scattercarpet"
           }
          ],
          "scattergeo": [
           {
            "marker": {
             "colorbar": {
              "outlinewidth": 0,
              "ticks": ""
             }
            },
            "type": "scattergeo"
           }
          ],
          "scattergl": [
           {
            "marker": {
             "colorbar": {
              "outlinewidth": 0,
              "ticks": ""
             }
            },
            "type": "scattergl"
           }
          ],
          "scattermapbox": [
           {
            "marker": {
             "colorbar": {
              "outlinewidth": 0,
              "ticks": ""
             }
            },
            "type": "scattermapbox"
           }
          ],
          "scatterpolar": [
           {
            "marker": {
             "colorbar": {
              "outlinewidth": 0,
              "ticks": ""
             }
            },
            "type": "scatterpolar"
           }
          ],
          "scatterpolargl": [
           {
            "marker": {
             "colorbar": {
              "outlinewidth": 0,
              "ticks": ""
             }
            },
            "type": "scatterpolargl"
           }
          ],
          "scatterternary": [
           {
            "marker": {
             "colorbar": {
              "outlinewidth": 0,
              "ticks": ""
             }
            },
            "type": "scatterternary"
           }
          ],
          "surface": [
           {
            "colorbar": {
             "outlinewidth": 0,
             "ticks": ""
            },
            "colorscale": [
             [
              0,
              "#0d0887"
             ],
             [
              0.1111111111111111,
              "#46039f"
             ],
             [
              0.2222222222222222,
              "#7201a8"
             ],
             [
              0.3333333333333333,
              "#9c179e"
             ],
             [
              0.4444444444444444,
              "#bd3786"
             ],
             [
              0.5555555555555556,
              "#d8576b"
             ],
             [
              0.6666666666666666,
              "#ed7953"
             ],
             [
              0.7777777777777778,
              "#fb9f3a"
             ],
             [
              0.8888888888888888,
              "#fdca26"
             ],
             [
              1,
              "#f0f921"
             ]
            ],
            "type": "surface"
           }
          ],
          "table": [
           {
            "cells": {
             "fill": {
              "color": "#EBF0F8"
             },
             "line": {
              "color": "white"
             }
            },
            "header": {
             "fill": {
              "color": "#C8D4E3"
             },
             "line": {
              "color": "white"
             }
            },
            "type": "table"
           }
          ]
         },
         "layout": {
          "annotationdefaults": {
           "arrowcolor": "#2a3f5f",
           "arrowhead": 0,
           "arrowwidth": 1
          },
          "autotypenumbers": "strict",
          "coloraxis": {
           "colorbar": {
            "outlinewidth": 0,
            "ticks": ""
           }
          },
          "colorscale": {
           "diverging": [
            [
             0,
             "#8e0152"
            ],
            [
             0.1,
             "#c51b7d"
            ],
            [
             0.2,
             "#de77ae"
            ],
            [
             0.3,
             "#f1b6da"
            ],
            [
             0.4,
             "#fde0ef"
            ],
            [
             0.5,
             "#f7f7f7"
            ],
            [
             0.6,
             "#e6f5d0"
            ],
            [
             0.7,
             "#b8e186"
            ],
            [
             0.8,
             "#7fbc41"
            ],
            [
             0.9,
             "#4d9221"
            ],
            [
             1,
             "#276419"
            ]
           ],
           "sequential": [
            [
             0,
             "#0d0887"
            ],
            [
             0.1111111111111111,
             "#46039f"
            ],
            [
             0.2222222222222222,
             "#7201a8"
            ],
            [
             0.3333333333333333,
             "#9c179e"
            ],
            [
             0.4444444444444444,
             "#bd3786"
            ],
            [
             0.5555555555555556,
             "#d8576b"
            ],
            [
             0.6666666666666666,
             "#ed7953"
            ],
            [
             0.7777777777777778,
             "#fb9f3a"
            ],
            [
             0.8888888888888888,
             "#fdca26"
            ],
            [
             1,
             "#f0f921"
            ]
           ],
           "sequentialminus": [
            [
             0,
             "#0d0887"
            ],
            [
             0.1111111111111111,
             "#46039f"
            ],
            [
             0.2222222222222222,
             "#7201a8"
            ],
            [
             0.3333333333333333,
             "#9c179e"
            ],
            [
             0.4444444444444444,
             "#bd3786"
            ],
            [
             0.5555555555555556,
             "#d8576b"
            ],
            [
             0.6666666666666666,
             "#ed7953"
            ],
            [
             0.7777777777777778,
             "#fb9f3a"
            ],
            [
             0.8888888888888888,
             "#fdca26"
            ],
            [
             1,
             "#f0f921"
            ]
           ]
          },
          "colorway": [
           "#636efa",
           "#EF553B",
           "#00cc96",
           "#ab63fa",
           "#FFA15A",
           "#19d3f3",
           "#FF6692",
           "#B6E880",
           "#FF97FF",
           "#FECB52"
          ],
          "font": {
           "color": "#2a3f5f"
          },
          "geo": {
           "bgcolor": "white",
           "lakecolor": "white",
           "landcolor": "white",
           "showlakes": true,
           "showland": true,
           "subunitcolor": "#C8D4E3"
          },
          "hoverlabel": {
           "align": "left"
          },
          "hovermode": "closest",
          "mapbox": {
           "style": "light"
          },
          "paper_bgcolor": "white",
          "plot_bgcolor": "white",
          "polar": {
           "angularaxis": {
            "gridcolor": "#EBF0F8",
            "linecolor": "#EBF0F8",
            "ticks": ""
           },
           "bgcolor": "white",
           "radialaxis": {
            "gridcolor": "#EBF0F8",
            "linecolor": "#EBF0F8",
            "ticks": ""
           }
          },
          "scene": {
           "xaxis": {
            "backgroundcolor": "white",
            "gridcolor": "#DFE8F3",
            "gridwidth": 2,
            "linecolor": "#EBF0F8",
            "showbackground": true,
            "ticks": "",
            "zerolinecolor": "#EBF0F8"
           },
           "yaxis": {
            "backgroundcolor": "white",
            "gridcolor": "#DFE8F3",
            "gridwidth": 2,
            "linecolor": "#EBF0F8",
            "showbackground": true,
            "ticks": "",
            "zerolinecolor": "#EBF0F8"
           },
           "zaxis": {
            "backgroundcolor": "white",
            "gridcolor": "#DFE8F3",
            "gridwidth": 2,
            "linecolor": "#EBF0F8",
            "showbackground": true,
            "ticks": "",
            "zerolinecolor": "#EBF0F8"
           }
          },
          "shapedefaults": {
           "line": {
            "color": "#2a3f5f"
           }
          },
          "ternary": {
           "aaxis": {
            "gridcolor": "#DFE8F3",
            "linecolor": "#A2B1C6",
            "ticks": ""
           },
           "baxis": {
            "gridcolor": "#DFE8F3",
            "linecolor": "#A2B1C6",
            "ticks": ""
           },
           "bgcolor": "white",
           "caxis": {
            "gridcolor": "#DFE8F3",
            "linecolor": "#A2B1C6",
            "ticks": ""
           }
          },
          "title": {
           "x": 0.05
          },
          "xaxis": {
           "automargin": true,
           "gridcolor": "#EBF0F8",
           "linecolor": "#EBF0F8",
           "ticks": "",
           "title": {
            "standoff": 15
           },
           "zerolinecolor": "#EBF0F8",
           "zerolinewidth": 2
          },
          "yaxis": {
           "automargin": true,
           "gridcolor": "#EBF0F8",
           "linecolor": "#EBF0F8",
           "ticks": "",
           "title": {
            "standoff": 15
           },
           "zerolinecolor": "#EBF0F8",
           "zerolinewidth": 2
          }
         }
        },
        "title": {
         "text": "Interactive Candidate-Role Assignments"
        },
        "updatemenus": [
         {
          "active": 0,
          "buttons": [
           {
            "args": [
             {
              "visible": [
               true,
               false,
               false,
               false,
               false,
               false
              ]
             }
            ],
            "label": "Solution 1",
            "method": "update"
           },
           {
            "args": [
             {
              "visible": [
               false,
               true,
               false,
               false,
               false,
               false
              ]
             }
            ],
            "label": "Solution 2",
            "method": "update"
           },
           {
            "args": [
             {
              "visible": [
               false,
               false,
               true,
               false,
               false,
               false
              ]
             }
            ],
            "label": "Solution 3",
            "method": "update"
           },
           {
            "args": [
             {
              "visible": [
               false,
               false,
               false,
               true,
               false,
               false
              ]
             }
            ],
            "label": "Solution 4",
            "method": "update"
           },
           {
            "args": [
             {
              "visible": [
               false,
               false,
               false,
               false,
               true,
               false
              ]
             }
            ],
            "label": "Solution 5",
            "method": "update"
           },
           {
            "args": [
             {
              "visible": [
               false,
               false,
               false,
               false,
               false,
               true
              ]
             }
            ],
            "label": "Solution 6",
            "method": "update"
           }
          ],
          "x": 0.35,
          "xanchor": "left",
          "y": 1.15,
          "yanchor": "top"
         }
        ],
        "xaxis": {
         "title": {
          "text": "Candidates"
         }
        },
        "yaxis": {
         "title": {
          "text": "Role"
         }
        }
       }
      },
      "text/html": [
       "<div>                            <div id=\"3f9a3784-c9c4-46b8-b496-6970ce2c2bd0\" class=\"plotly-graph-div\" style=\"height:525px; width:100%;\"></div>            <script type=\"text/javascript\">                require([\"plotly\"], function(Plotly) {                    window.PLOTLYENV=window.PLOTLYENV || {};                                    if (document.getElementById(\"3f9a3784-c9c4-46b8-b496-6970ce2c2bd0\")) {                    Plotly.newPlot(                        \"3f9a3784-c9c4-46b8-b496-6970ce2c2bd0\",                        [{\"hovertemplate\":\"%{text}: %{x}\\u003cextra\\u003e\\u003c\\u002fextra\\u003e\",\"marker\":{\"color\":\"rgb(228,26,28)\"},\"name\":\"Solution 1\",\"orientation\":\"h\",\"text\":[\"Solution 1\",\"Solution 1\",\"Solution 1\",\"Solution 1\",\"Solution 1\",\"Solution 1\",\"Solution 1\",\"Solution 1\"],\"visible\":true,\"x\":[\"Anita\",\"Bruce\",\"Mary\",\"Jane\",\"Anita\",\"Bruce\",\"Bruce\",\"Juan\"],\"y\":[\"AI Engineer 1\",\"AI Engineer 2\",\"AI Engineer 3\",\"Database Admin\",\"Python Programmer 1\",\"Python Programmer 2\",\"Systems Engineer\",\"Web Designer\"],\"type\":\"bar\"},{\"hovertemplate\":\"%{text}: %{x}\\u003cextra\\u003e\\u003c\\u002fextra\\u003e\",\"marker\":{\"color\":\"rgb(55,126,184)\"},\"name\":\"Solution 2\",\"orientation\":\"h\",\"text\":[\"Solution 2\",\"Solution 2\",\"Solution 2\",\"Solution 2\",\"Solution 2\",\"Solution 2\",\"Solution 2\",\"Solution 2\"],\"visible\":false,\"x\":[\"Anita\",\"Bruce\",\"Mary\",\"Jane\",\"Anita\",\"Mary\",\"Bruce\",\"Juan\"],\"y\":[\"AI Engineer 1\",\"AI Engineer 2\",\"AI Engineer 3\",\"Database Admin\",\"Python Programmer 1\",\"Python Programmer 2\",\"Systems Engineer\",\"Web Designer\"],\"type\":\"bar\"},{\"hovertemplate\":\"%{text}: %{x}\\u003cextra\\u003e\\u003c\\u002fextra\\u003e\",\"marker\":{\"color\":\"rgb(77,175,74)\"},\"name\":\"Solution 3\",\"orientation\":\"h\",\"text\":[\"Solution 3\",\"Solution 3\",\"Solution 3\",\"Solution 3\",\"Solution 3\",\"Solution 3\",\"Solution 3\",\"Solution 3\"],\"visible\":false,\"x\":[\"Anita\",\"Bruce\",\"Mary\",\"Jane\",\"Anita\",\"Jane\",\"Bruce\",\"Juan\"],\"y\":[\"AI Engineer 1\",\"AI Engineer 2\",\"AI Engineer 3\",\"Database Admin\",\"Python Programmer 1\",\"Python Programmer 2\",\"Systems Engineer\",\"Web Designer\"],\"type\":\"bar\"},{\"hovertemplate\":\"%{text}: %{x}\\u003cextra\\u003e\\u003c\\u002fextra\\u003e\",\"marker\":{\"color\":\"rgb(152,78,163)\"},\"name\":\"Solution 4\",\"orientation\":\"h\",\"text\":[\"Solution 4\",\"Solution 4\",\"Solution 4\",\"Solution 4\",\"Solution 4\",\"Solution 4\",\"Solution 4\",\"Solution 4\"],\"visible\":false,\"x\":[\"Anita\",\"Bruce\",\"Mary\",\"Jane\",\"Anita\",\"Jim\",\"Bruce\",\"Juan\"],\"y\":[\"AI Engineer 1\",\"AI Engineer 2\",\"AI Engineer 3\",\"Database Admin\",\"Python Programmer 1\",\"Python Programmer 2\",\"Systems Engineer\",\"Web Designer\"],\"type\":\"bar\"},{\"hovertemplate\":\"%{text}: %{x}\\u003cextra\\u003e\\u003c\\u002fextra\\u003e\",\"marker\":{\"color\":\"rgb(255,127,0)\"},\"name\":\"Solution 5\",\"orientation\":\"h\",\"text\":[\"Solution 5\",\"Solution 5\",\"Solution 5\",\"Solution 5\",\"Solution 5\",\"Solution 5\",\"Solution 5\",\"Solution 5\"],\"visible\":false,\"x\":[\"Anita\",\"Bruce\",\"Mary\",\"Jane\",\"Anita\",\"Juan\",\"Bruce\",\"Juan\"],\"y\":[\"AI Engineer 1\",\"AI Engineer 2\",\"AI Engineer 3\",\"Database Admin\",\"Python Programmer 1\",\"Python Programmer 2\",\"Systems Engineer\",\"Web Designer\"],\"type\":\"bar\"},{\"hovertemplate\":\"%{text}: %{x}\\u003cextra\\u003e\\u003c\\u002fextra\\u003e\",\"marker\":{\"color\":\"rgb(255,255,51)\"},\"name\":\"Solution 6\",\"orientation\":\"h\",\"text\":[\"Solution 6\",\"Solution 6\",\"Solution 6\",\"Solution 6\",\"Solution 6\",\"Solution 6\",\"Solution 6\",\"Solution 6\"],\"visible\":false,\"x\":[\"Anita\",\"Bruce\",\"Mary\",\"Jane\",\"Anita\",\"Peter\",\"Bruce\",\"Juan\"],\"y\":[\"AI Engineer 1\",\"AI Engineer 2\",\"AI Engineer 3\",\"Database Admin\",\"Python Programmer 1\",\"Python Programmer 2\",\"Systems Engineer\",\"Web Designer\"],\"type\":\"bar\"}],                        {\"template\":{\"data\":{\"barpolar\":[{\"marker\":{\"line\":{\"color\":\"white\",\"width\":0.5},\"pattern\":{\"fillmode\":\"overlay\",\"size\":10,\"solidity\":0.2}},\"type\":\"barpolar\"}],\"bar\":[{\"error_x\":{\"color\":\"#2a3f5f\"},\"error_y\":{\"color\":\"#2a3f5f\"},\"marker\":{\"line\":{\"color\":\"white\",\"width\":0.5},\"pattern\":{\"fillmode\":\"overlay\",\"size\":10,\"solidity\":0.2}},\"type\":\"bar\"}],\"carpet\":[{\"aaxis\":{\"endlinecolor\":\"#2a3f5f\",\"gridcolor\":\"#C8D4E3\",\"linecolor\":\"#C8D4E3\",\"minorgridcolor\":\"#C8D4E3\",\"startlinecolor\":\"#2a3f5f\"},\"baxis\":{\"endlinecolor\":\"#2a3f5f\",\"gridcolor\":\"#C8D4E3\",\"linecolor\":\"#C8D4E3\",\"minorgridcolor\":\"#C8D4E3\",\"startlinecolor\":\"#2a3f5f\"},\"type\":\"carpet\"}],\"choropleth\":[{\"colorbar\":{\"outlinewidth\":0,\"ticks\":\"\"},\"type\":\"choropleth\"}],\"contourcarpet\":[{\"colorbar\":{\"outlinewidth\":0,\"ticks\":\"\"},\"type\":\"contourcarpet\"}],\"contour\":[{\"colorbar\":{\"outlinewidth\":0,\"ticks\":\"\"},\"colorscale\":[[0.0,\"#0d0887\"],[0.1111111111111111,\"#46039f\"],[0.2222222222222222,\"#7201a8\"],[0.3333333333333333,\"#9c179e\"],[0.4444444444444444,\"#bd3786\"],[0.5555555555555556,\"#d8576b\"],[0.6666666666666666,\"#ed7953\"],[0.7777777777777778,\"#fb9f3a\"],[0.8888888888888888,\"#fdca26\"],[1.0,\"#f0f921\"]],\"type\":\"contour\"}],\"heatmapgl\":[{\"colorbar\":{\"outlinewidth\":0,\"ticks\":\"\"},\"colorscale\":[[0.0,\"#0d0887\"],[0.1111111111111111,\"#46039f\"],[0.2222222222222222,\"#7201a8\"],[0.3333333333333333,\"#9c179e\"],[0.4444444444444444,\"#bd3786\"],[0.5555555555555556,\"#d8576b\"],[0.6666666666666666,\"#ed7953\"],[0.7777777777777778,\"#fb9f3a\"],[0.8888888888888888,\"#fdca26\"],[1.0,\"#f0f921\"]],\"type\":\"heatmapgl\"}],\"heatmap\":[{\"colorbar\":{\"outlinewidth\":0,\"ticks\":\"\"},\"colorscale\":[[0.0,\"#0d0887\"],[0.1111111111111111,\"#46039f\"],[0.2222222222222222,\"#7201a8\"],[0.3333333333333333,\"#9c179e\"],[0.4444444444444444,\"#bd3786\"],[0.5555555555555556,\"#d8576b\"],[0.6666666666666666,\"#ed7953\"],[0.7777777777777778,\"#fb9f3a\"],[0.8888888888888888,\"#fdca26\"],[1.0,\"#f0f921\"]],\"type\":\"heatmap\"}],\"histogram2dcontour\":[{\"colorbar\":{\"outlinewidth\":0,\"ticks\":\"\"},\"colorscale\":[[0.0,\"#0d0887\"],[0.1111111111111111,\"#46039f\"],[0.2222222222222222,\"#7201a8\"],[0.3333333333333333,\"#9c179e\"],[0.4444444444444444,\"#bd3786\"],[0.5555555555555556,\"#d8576b\"],[0.6666666666666666,\"#ed7953\"],[0.7777777777777778,\"#fb9f3a\"],[0.8888888888888888,\"#fdca26\"],[1.0,\"#f0f921\"]],\"type\":\"histogram2dcontour\"}],\"histogram2d\":[{\"colorbar\":{\"outlinewidth\":0,\"ticks\":\"\"},\"colorscale\":[[0.0,\"#0d0887\"],[0.1111111111111111,\"#46039f\"],[0.2222222222222222,\"#7201a8\"],[0.3333333333333333,\"#9c179e\"],[0.4444444444444444,\"#bd3786\"],[0.5555555555555556,\"#d8576b\"],[0.6666666666666666,\"#ed7953\"],[0.7777777777777778,\"#fb9f3a\"],[0.8888888888888888,\"#fdca26\"],[1.0,\"#f0f921\"]],\"type\":\"histogram2d\"}],\"histogram\":[{\"marker\":{\"pattern\":{\"fillmode\":\"overlay\",\"size\":10,\"solidity\":0.2}},\"type\":\"histogram\"}],\"mesh3d\":[{\"colorbar\":{\"outlinewidth\":0,\"ticks\":\"\"},\"type\":\"mesh3d\"}],\"parcoords\":[{\"line\":{\"colorbar\":{\"outlinewidth\":0,\"ticks\":\"\"}},\"type\":\"parcoords\"}],\"pie\":[{\"automargin\":true,\"type\":\"pie\"}],\"scatter3d\":[{\"line\":{\"colorbar\":{\"outlinewidth\":0,\"ticks\":\"\"}},\"marker\":{\"colorbar\":{\"outlinewidth\":0,\"ticks\":\"\"}},\"type\":\"scatter3d\"}],\"scattercarpet\":[{\"marker\":{\"colorbar\":{\"outlinewidth\":0,\"ticks\":\"\"}},\"type\":\"scattercarpet\"}],\"scattergeo\":[{\"marker\":{\"colorbar\":{\"outlinewidth\":0,\"ticks\":\"\"}},\"type\":\"scattergeo\"}],\"scattergl\":[{\"marker\":{\"colorbar\":{\"outlinewidth\":0,\"ticks\":\"\"}},\"type\":\"scattergl\"}],\"scattermapbox\":[{\"marker\":{\"colorbar\":{\"outlinewidth\":0,\"ticks\":\"\"}},\"type\":\"scattermapbox\"}],\"scatterpolargl\":[{\"marker\":{\"colorbar\":{\"outlinewidth\":0,\"ticks\":\"\"}},\"type\":\"scatterpolargl\"}],\"scatterpolar\":[{\"marker\":{\"colorbar\":{\"outlinewidth\":0,\"ticks\":\"\"}},\"type\":\"scatterpolar\"}],\"scatter\":[{\"fillpattern\":{\"fillmode\":\"overlay\",\"size\":10,\"solidity\":0.2},\"type\":\"scatter\"}],\"scatterternary\":[{\"marker\":{\"colorbar\":{\"outlinewidth\":0,\"ticks\":\"\"}},\"type\":\"scatterternary\"}],\"surface\":[{\"colorbar\":{\"outlinewidth\":0,\"ticks\":\"\"},\"colorscale\":[[0.0,\"#0d0887\"],[0.1111111111111111,\"#46039f\"],[0.2222222222222222,\"#7201a8\"],[0.3333333333333333,\"#9c179e\"],[0.4444444444444444,\"#bd3786\"],[0.5555555555555556,\"#d8576b\"],[0.6666666666666666,\"#ed7953\"],[0.7777777777777778,\"#fb9f3a\"],[0.8888888888888888,\"#fdca26\"],[1.0,\"#f0f921\"]],\"type\":\"surface\"}],\"table\":[{\"cells\":{\"fill\":{\"color\":\"#EBF0F8\"},\"line\":{\"color\":\"white\"}},\"header\":{\"fill\":{\"color\":\"#C8D4E3\"},\"line\":{\"color\":\"white\"}},\"type\":\"table\"}]},\"layout\":{\"annotationdefaults\":{\"arrowcolor\":\"#2a3f5f\",\"arrowhead\":0,\"arrowwidth\":1},\"autotypenumbers\":\"strict\",\"coloraxis\":{\"colorbar\":{\"outlinewidth\":0,\"ticks\":\"\"}},\"colorscale\":{\"diverging\":[[0,\"#8e0152\"],[0.1,\"#c51b7d\"],[0.2,\"#de77ae\"],[0.3,\"#f1b6da\"],[0.4,\"#fde0ef\"],[0.5,\"#f7f7f7\"],[0.6,\"#e6f5d0\"],[0.7,\"#b8e186\"],[0.8,\"#7fbc41\"],[0.9,\"#4d9221\"],[1,\"#276419\"]],\"sequential\":[[0.0,\"#0d0887\"],[0.1111111111111111,\"#46039f\"],[0.2222222222222222,\"#7201a8\"],[0.3333333333333333,\"#9c179e\"],[0.4444444444444444,\"#bd3786\"],[0.5555555555555556,\"#d8576b\"],[0.6666666666666666,\"#ed7953\"],[0.7777777777777778,\"#fb9f3a\"],[0.8888888888888888,\"#fdca26\"],[1.0,\"#f0f921\"]],\"sequentialminus\":[[0.0,\"#0d0887\"],[0.1111111111111111,\"#46039f\"],[0.2222222222222222,\"#7201a8\"],[0.3333333333333333,\"#9c179e\"],[0.4444444444444444,\"#bd3786\"],[0.5555555555555556,\"#d8576b\"],[0.6666666666666666,\"#ed7953\"],[0.7777777777777778,\"#fb9f3a\"],[0.8888888888888888,\"#fdca26\"],[1.0,\"#f0f921\"]]},\"colorway\":[\"#636efa\",\"#EF553B\",\"#00cc96\",\"#ab63fa\",\"#FFA15A\",\"#19d3f3\",\"#FF6692\",\"#B6E880\",\"#FF97FF\",\"#FECB52\"],\"font\":{\"color\":\"#2a3f5f\"},\"geo\":{\"bgcolor\":\"white\",\"lakecolor\":\"white\",\"landcolor\":\"white\",\"showlakes\":true,\"showland\":true,\"subunitcolor\":\"#C8D4E3\"},\"hoverlabel\":{\"align\":\"left\"},\"hovermode\":\"closest\",\"mapbox\":{\"style\":\"light\"},\"paper_bgcolor\":\"white\",\"plot_bgcolor\":\"white\",\"polar\":{\"angularaxis\":{\"gridcolor\":\"#EBF0F8\",\"linecolor\":\"#EBF0F8\",\"ticks\":\"\"},\"bgcolor\":\"white\",\"radialaxis\":{\"gridcolor\":\"#EBF0F8\",\"linecolor\":\"#EBF0F8\",\"ticks\":\"\"}},\"scene\":{\"xaxis\":{\"backgroundcolor\":\"white\",\"gridcolor\":\"#DFE8F3\",\"gridwidth\":2,\"linecolor\":\"#EBF0F8\",\"showbackground\":true,\"ticks\":\"\",\"zerolinecolor\":\"#EBF0F8\"},\"yaxis\":{\"backgroundcolor\":\"white\",\"gridcolor\":\"#DFE8F3\",\"gridwidth\":2,\"linecolor\":\"#EBF0F8\",\"showbackground\":true,\"ticks\":\"\",\"zerolinecolor\":\"#EBF0F8\"},\"zaxis\":{\"backgroundcolor\":\"white\",\"gridcolor\":\"#DFE8F3\",\"gridwidth\":2,\"linecolor\":\"#EBF0F8\",\"showbackground\":true,\"ticks\":\"\",\"zerolinecolor\":\"#EBF0F8\"}},\"shapedefaults\":{\"line\":{\"color\":\"#2a3f5f\"}},\"ternary\":{\"aaxis\":{\"gridcolor\":\"#DFE8F3\",\"linecolor\":\"#A2B1C6\",\"ticks\":\"\"},\"baxis\":{\"gridcolor\":\"#DFE8F3\",\"linecolor\":\"#A2B1C6\",\"ticks\":\"\"},\"bgcolor\":\"white\",\"caxis\":{\"gridcolor\":\"#DFE8F3\",\"linecolor\":\"#A2B1C6\",\"ticks\":\"\"}},\"title\":{\"x\":0.05},\"xaxis\":{\"automargin\":true,\"gridcolor\":\"#EBF0F8\",\"linecolor\":\"#EBF0F8\",\"ticks\":\"\",\"title\":{\"standoff\":15},\"zerolinecolor\":\"#EBF0F8\",\"zerolinewidth\":2},\"yaxis\":{\"automargin\":true,\"gridcolor\":\"#EBF0F8\",\"linecolor\":\"#EBF0F8\",\"ticks\":\"\",\"title\":{\"standoff\":15},\"zerolinecolor\":\"#EBF0F8\",\"zerolinewidth\":2}}},\"margin\":{\"t\":100,\"b\":100,\"l\":100,\"r\":100},\"updatemenus\":[{\"active\":0,\"buttons\":[{\"args\":[{\"visible\":[true,false,false,false,false,false]}],\"label\":\"Solution 1\",\"method\":\"update\"},{\"args\":[{\"visible\":[false,true,false,false,false,false]}],\"label\":\"Solution 2\",\"method\":\"update\"},{\"args\":[{\"visible\":[false,false,true,false,false,false]}],\"label\":\"Solution 3\",\"method\":\"update\"},{\"args\":[{\"visible\":[false,false,false,true,false,false]}],\"label\":\"Solution 4\",\"method\":\"update\"},{\"args\":[{\"visible\":[false,false,false,false,true,false]}],\"label\":\"Solution 5\",\"method\":\"update\"},{\"args\":[{\"visible\":[false,false,false,false,false,true]}],\"label\":\"Solution 6\",\"method\":\"update\"}],\"x\":0.35,\"xanchor\":\"left\",\"y\":1.15,\"yanchor\":\"top\"}],\"xaxis\":{\"title\":{\"text\":\"Candidates\"}},\"yaxis\":{\"title\":{\"text\":\"Role\"}},\"title\":{\"text\":\"Interactive Candidate-Role Assignments\"}},                        {\"responsive\": true}                    ).then(function(){\n",
       "                            \n",
       "var gd = document.getElementById('3f9a3784-c9c4-46b8-b496-6970ce2c2bd0');\n",
       "var x = new MutationObserver(function (mutations, observer) {{\n",
       "        var display = window.getComputedStyle(gd).display;\n",
       "        if (!display || display === 'none') {{\n",
       "            console.log([gd, 'removed!']);\n",
       "            Plotly.purge(gd);\n",
       "            observer.disconnect();\n",
       "        }}\n",
       "}});\n",
       "\n",
       "// Listen for the removal of the full notebook cells\n",
       "var notebookContainer = gd.closest('#notebook-container');\n",
       "if (notebookContainer) {{\n",
       "    x.observe(notebookContainer, {childList: true});\n",
       "}}\n",
       "\n",
       "// Listen for the clearing of the current output cell\n",
       "var outputEl = gd.closest('.output');\n",
       "if (outputEl) {{\n",
       "    x.observe(outputEl, {childList: true});\n",
       "}}\n",
       "\n",
       "                        })                };                });            </script>        </div>"
      ]
     },
     "metadata": {},
     "output_type": "display_data"
    }
   ],
   "source": [
    "import plotly.graph_objects as go\n",
    "import plotly.express as px\n",
    "\n",
    "# Extract all unique candidates from the original candidates list\n",
    "all_candidates = list(set(candidate for solution in solutions for candidate in solution.values()))\n",
    "\n",
    "# Define a distinct color palette\n",
    "colors = px.colors.qualitative.Set1\n",
    "\n",
    "# Create an initial visualization\n",
    "fig = go.Figure()\n",
    "\n",
    "# Create a bar for each role in each solution\n",
    "for solution_num, solution in enumerate(solutions[:6], 1):\n",
    "    x_values = [solution.get(role, 'No Candidate') for role in sorted_roles]\n",
    "    color = colors[(solution_num - 1) % len(colors)]\n",
    "    fig.add_trace(go.Bar(\n",
    "        y=sorted_roles,\n",
    "        x=x_values,\n",
    "        orientation='h',\n",
    "        name=f'Solution {solution_num}',\n",
    "        marker=dict(color=color),\n",
    "        hovertemplate='%{text}: %{x}<extra></extra>',\n",
    "        text=[f'Solution {solution_num}' for _ in sorted_roles],\n",
    "        visible=(solution_num == 1)\n",
    "    ))\n",
    "\n",
    "# Add dropdown menu for selecting solutions\n",
    "buttons = []\n",
    "for solution_num, solution in enumerate(solutions[:6], 1):\n",
    "    button = dict(\n",
    "        label=f'Solution {solution_num}',\n",
    "        method=\"update\",\n",
    "        args=[{\"visible\": [(solution_num == i + 1) for i in range(6)]}]\n",
    "    )\n",
    "    buttons.append(button)\n",
    "\n",
    "fig.update_layout(\n",
    "    updatemenus=[\n",
    "        dict(\n",
    "            active=0,\n",
    "            buttons=buttons,\n",
    "            x=0.35,\n",
    "            xanchor='left',\n",
    "            y=1.15,\n",
    "            yanchor='top',\n",
    "        ),\n",
    "    ],\n",
    "    xaxis=dict(title='Candidates'),\n",
    "    yaxis=dict(title='Role'),  # Updated y-axis label\n",
    "    title='Interactive Candidate-Role Assignments',\n",
    "    template='plotly_white',  # White background template\n",
    "    margin=dict(t=100, b=100, l=100, r=100),\n",
    ")\n",
    "\n",
    "fig.show()"
   ]
  },
  {
   "cell_type": "markdown",
   "id": "b51ce519",
   "metadata": {},
   "source": [
    "# Create GUI (Graphical User Interface)"
   ]
  },
  {
   "cell_type": "code",
   "execution_count": 42,
   "id": "1e756fe1",
   "metadata": {},
   "outputs": [
    {
     "data": {
      "image/png": "[encoded data removed]",
      "text/plain": [
       "<Figure size 432x288 with 1 Axes>"
      ]
     },
     "metadata": {
      "needs_background": "light"
     },
     "output_type": "display_data"
    }
   ],
   "source": [
    "import tkinter as tk\n",
    "from tkinter import ttk, scrolledtext\n",
    "import matplotlib.pyplot as plt\n",
    "from matplotlib.backends.backend_tkagg import FigureCanvasTkAgg\n",
    "from constraint import Problem\n",
    "\n",
    "# Define the CSP problem\n",
    "problem = Problem()\n",
    "\n",
    "# Define the roles\n",
    "roles = [\n",
    "    'Python Programmer 1',\n",
    "    'Python Programmer 2',\n",
    "    'AI Engineer 1',\n",
    "    'AI Engineer 2',\n",
    "    'AI Engineer 3',\n",
    "    'Web Designer',\n",
    "    'Database Admin',\n",
    "    'Systems Engineer'\n",
    "]\n",
    "\n",
    "# Define the candidates and their abilities\n",
    "candidates = {\n",
    "    'Peter': ['Python', 'AI'],\n",
    "    'Juan': ['Web', 'AI'],\n",
    "    'Jim': ['AI', 'Systems'],\n",
    "    'Jane': ['Python', 'Database'],\n",
    "    'Mary': ['Web', 'Systems'],\n",
    "    'Bruce': ['Systems', 'Python'],\n",
    "    'Anita': ['Web', 'AI']\n",
    "}\n",
    "\n",
    "# Add variables to the problem\n",
    "for role in roles:\n",
    "    problem.addVariable(role, list(candidates.keys()))\n",
    "\n",
    "# Define the constraints\n",
    "# (The initial constraints are added here, and users can modify them through the GUI)\n",
    "\n",
    "# 2 Python Programmers\n",
    "problem.addConstraint(lambda p1, p2: p1 != p2, ('Python Programmer 1', 'Python Programmer 2'))\n",
    "\n",
    "# 3 AI Engineers\n",
    "problem.addConstraint(lambda a1, a2, a3: len({a1, a2, a3}) == 3, ('AI Engineer 1', 'AI Engineer 2', 'AI Engineer 3'))\n",
    "\n",
    "# 1 Web Designer, 1 Database Admin, 1 Systems Engineer\n",
    "problem.addConstraint(lambda w: w == 'Juan', ('Web Designer',))  # Juan is the Web Designer\n",
    "problem.addConstraint(lambda d: d == 'Jane', ('Database Admin',))  # Jane is the Database Admin\n",
    "problem.addConstraint(lambda s: s == 'Bruce', ('Systems Engineer',))  # Bruce is the Systems Engineer\n",
    "\n",
    "def solve_and_visualize():\n",
    "    # Solve the CSP\n",
    "    solutions = problem.getSolutions()[:10]  # Limit to 10 solutions\n",
    "\n",
    "    # Display the solutions in the Text widget\n",
    "    solutions_text.delete(1.0, tk.END)\n",
    "    for i, solution in enumerate(solutions):\n",
    "        solutions_text.insert(tk.END, f\"\\nSolution {i + 1}:\\n\")\n",
    "        for role in roles:\n",
    "            solutions_text.insert(tk.END, f\"{role}: {solution[role]}\\n\")\n",
    "    \n",
    "    # Display the plot in the Tkinter window\n",
    "    plot_solution(solutions)\n",
    "\n",
    "def plot_solution(solutions):\n",
    "    # Extract role assignments from the first solution\n",
    "    assignments = solutions[0]\n",
    "\n",
    "    # Sort roles to ensure consistent order\n",
    "    sorted_roles = sorted(roles)\n",
    "\n",
    "    # Create a horizontal bar chart\n",
    "    fig, ax = plt.subplots(figsize=(6, 4))\n",
    "\n",
    "    for i, role in enumerate(sorted_roles):\n",
    "        candidate = assignments[role]\n",
    "        ax.barh(i, 1, left=list(candidates.keys()).index(candidate), color='skyblue', edgecolor='black', height=0.6)\n",
    "\n",
    "    # Set y-axis ticks and labels\n",
    "    ax.set_yticks(range(len(sorted_roles)))\n",
    "    ax.set_yticklabels(sorted_roles)\n",
    "\n",
    "    # Set x-axis ticks and labels\n",
    "    ax.set_xticks(range(len(candidates)))\n",
    "    ax.set_xticklabels(list(candidates.keys()))\n",
    "\n",
    "    # Set plot labels and title\n",
    "    plt.xlabel('Candidates')\n",
    "    plt.ylabel('Roles')\n",
    "    plt.title('Candidate-Role Assignments')\n",
    "\n",
    "    # Invert y-axis to have the roles listed from top to bottom\n",
    "    ax.invert_yaxis()\n",
    "\n",
    "    # Embed the plot in the Tkinter window\n",
    "    canvas = FigureCanvasTkAgg(fig, master=plot_frame)\n",
    "    canvas.draw()\n",
    "    canvas.get_tk_widget().pack(side=tk.TOP, fill=tk.BOTH, expand=1)\n",
    "\n",
    "# GUI\n",
    "root = tk.Tk()\n",
    "root.title(\"Alternate Constraint Explorer\")\n",
    "\n",
    "# Constraints Section\n",
    "constraints_frame = ttk.LabelFrame(root, text=\"Constraints\")\n",
    "constraints_frame.grid(row=0, column=0, padx=10, pady=10, sticky=\"w\")\n",
    "\n",
    "# Solve Button\n",
    "solve_button = ttk.Button(root, text=\"Solve and Visualize\", command=solve_and_visualize)\n",
    "solve_button.grid(row=1, column=0, pady=10)\n",
    "\n",
    "# Solutions Text Widget\n",
    "solutions_text = scrolledtext.ScrolledText(root, width=50, height=15, wrap=tk.WORD)\n",
    "solutions_text.grid(row=2, column=0, padx=10, pady=10)\n",
    "\n",
    "# Plot Frame\n",
    "plot_frame = ttk.Frame(root)\n",
    "plot_frame.grid(row=0, column=1, rowspan=3, padx=10, pady=10)\n",
    "\n",
    "# Run the GUI\n",
    "root.mainloop()"
   ]
  },
  {
   "cell_type": "code",
   "execution_count": null,
   "id": "1982a0d5",
   "metadata": {},
   "outputs": [],
   "source": []
  }
 ],
 "metadata": {
  "kernelspec": {
   "display_name": "Python 3 (ipykernel)",
   "language": "python",
   "name": "python3"
  },
  "language_info": {
   "codemirror_mode": {
    "name": "ipython",
    "version": 3
   },
   "file_extension": ".py",
   "mimetype": "text/x-python",
   "name": "python",
   "nbconvert_exporter": "python",
   "pygments_lexer": "ipython3",
   "version": "3.9.7"
  }
 },
 "nbformat": 4,
 "nbformat_minor": 5
}
